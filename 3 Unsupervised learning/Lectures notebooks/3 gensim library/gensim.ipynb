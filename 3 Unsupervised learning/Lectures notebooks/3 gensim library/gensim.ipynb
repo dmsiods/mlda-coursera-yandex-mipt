{
 "cells": [
  {
   "cell_type": "markdown",
   "metadata": {},
   "source": [
    "# Пример использования библиотеки gensim для тематического моделирования"
   ]
  },
  {
   "cell_type": "markdown",
   "metadata": {},
   "source": [
    "Такая полезная теорема Байеса! :)\n",
    "\n",
    "![comic1](http://imgs.xkcd.com/comics/seashell.png)"
   ]
  },
  {
   "cell_type": "code",
   "execution_count": 3,
   "metadata": {},
   "outputs": [],
   "source": [
    "from gensim import corpora, models"
   ]
  },
  {
   "cell_type": "code",
   "execution_count": 4,
   "metadata": {},
   "outputs": [],
   "source": [
    "# Импортируем данные в формте UCI Bag of Words\n",
    "data = corpora.UciCorpus(\"docword.xkcd.txt\", \"vocab.xkcd.txt\")\n",
    "dictionary = data.create_dictionary()"
   ]
  },
  {
   "cell_type": "code",
   "execution_count": 5,
   "metadata": {},
   "outputs": [
    {
     "name": "stdout",
     "output_type": "stream",
     "text": [
      "CPU times: user 25.1 s, sys: 38.5 ms, total: 25.1 s\n",
      "Wall time: 25.2 s\n"
     ]
    }
   ],
   "source": [
    "# обучение модель\n",
    "%time ldamodel = models.ldamodel.LdaModel(data, id2word=dictionary, num_topics=5, passes=20, alpha=1.25, eta=1.25)"
   ]
  },
  {
   "cell_type": "code",
   "execution_count": 6,
   "metadata": {},
   "outputs": [],
   "source": [
    "# Сохранение модели\n",
    "ldamodel.save(\"ldamodel_xkcd\")"
   ]
  },
  {
   "cell_type": "code",
   "execution_count": 7,
   "metadata": {},
   "outputs": [],
   "source": [
    "# Загрузка модели\n",
    "ldamodel = models.ldamodel.LdaModel.load(\"ldamodel_xkcd\")"
   ]
  },
  {
   "cell_type": "code",
   "execution_count": 8,
   "metadata": {},
   "outputs": [
    {
     "name": "stdout",
     "output_type": "stream",
     "text": [
      "Topic 0 : 0.002*\"b'island'\" + 0.001*\"b'map'\" + 0.001*\"b'blogs'\" + 0.001*\"b'north'\" + 0.001*\"b'gliese'\" + 0.001*\"b'bay'\" + 0.001*\"b'sea'\" + 0.001*\"b'shark'\" + 0.001*\"b'december'\" + 0.001*\"b'planet'\"\n",
      "Topic 1 : 0.020*\"b'person'\" + 0.009*\"b'text'\" + 0.008*\"b'title'\" + 0.004*\"b'one'\" + 0.004*\"b'people'\" + 0.003*\"b'time'\" + 0.003*\"b'two'\" + 0.003*\"b'can'\" + 0.003*\"b'just'\" + 0.003*\"b'year'\"\n",
      "Topic 2 : 0.016*\"b'man'\" + 0.012*\"b'woman'\" + 0.005*\"b'text'\" + 0.004*\"b'title'\" + 0.004*\"b'panel'\" + 0.004*\"b'figure'\" + 0.003*\"b'line'\" + 0.003*\"b'right'\" + 0.002*\"b'one'\" + 0.002*\"b'narrator'\"\n",
      "Topic 3 : 0.026*\"b'man'\" + 0.013*\"b'guy'\" + 0.010*\"b'text'\" + 0.009*\"b'girl'\" + 0.008*\"b'title'\" + 0.007*\"b'hat'\" + 0.007*\"b'woman'\" + 0.005*\"b'one'\" + 0.005*\"b'just'\" + 0.005*\"b'computer'\"\n",
      "Topic 4 : 0.003*\"b'wait'\" + 0.002*\"b'sagal'\" + 0.002*\"b'peter'\" + 0.001*\"b'dont'\" + 0.001*\"b'hatboy'\" + 0.001*\"b'cop'\" + 0.001*\"b'pizza'\" + 0.000*\"b'radio'\" + 0.000*\"b'duck'\" + 0.000*\"b'rowland'\"\n"
     ]
    }
   ],
   "source": [
    "# выводим топы слов\n",
    "for t, top_words in ldamodel.print_topics(num_topics=10, num_words=10):\n",
    "    print (\"Topic\", t, \":\", top_words)"
   ]
  },
  {
   "cell_type": "code",
   "execution_count": 10,
   "metadata": {},
   "outputs": [
    {
     "name": "stdout",
     "output_type": "stream",
     "text": [
      "365.97308637258294\n"
     ]
    }
   ],
   "source": [
    "# Вычисляем логарифм перплексии и немного преобразуем, чтобы привести к общепринятому виду\n",
    "perplexity = ldamodel.log_perplexity(list(data))\n",
    "print (2**(-perplexity))"
   ]
  },
  {
   "cell_type": "code",
   "execution_count": 11,
   "metadata": {},
   "outputs": [
    {
     "data": {
      "text/plain": [
       "365.9730825024131"
      ]
     },
     "execution_count": 11,
     "metadata": {},
     "output_type": "execute_result"
    }
   ],
   "source": [
    "perp = ldamodel.bound(data)\n",
    "2**(-perp/float(87409))"
   ]
  },
  {
   "cell_type": "code",
   "execution_count": 13,
   "metadata": {},
   "outputs": [],
   "source": [
    "# Добавление в модель новых документов, содержащихся в новом корупсе data2\n",
    "# ldamodel.update(data2, passes=10)"
   ]
  },
  {
   "cell_type": "code",
   "execution_count": 14,
   "metadata": {},
   "outputs": [
    {
     "data": {
      "text/plain": [
       "[(0, 0.05753884),\n",
       " (1, 0.11314428),\n",
       " (2, 0.074466705),\n",
       " (3, 0.69775045),\n",
       " (4, 0.05709967)]"
      ]
     },
     "execution_count": 14,
     "metadata": {},
     "output_type": "execute_result"
    }
   ],
   "source": [
    "# Получение распределения тем для конкретного документа\n",
    "doc = list(data)[0]\n",
    "ldamodel.get_document_topics(doc)"
   ]
  },
  {
   "cell_type": "markdown",
   "metadata": {},
   "source": [
    "Эти люди не знают про тематические модели:\n",
    "\n",
    "![comic2](http://imgs.xkcd.com/comics/the_problem_with_wikipedia.png) | ![comic3](http://imgs.xkcd.com/comics/mystery_news.png)"
   ]
  }
 ],
 "metadata": {
  "kernelspec": {
   "display_name": "Python 3",
   "language": "python",
   "name": "python3"
  },
  "language_info": {
   "codemirror_mode": {
    "name": "ipython",
    "version": 3
   },
   "file_extension": ".py",
   "mimetype": "text/x-python",
   "name": "python",
   "nbconvert_exporter": "python",
   "pygments_lexer": "ipython3",
   "version": "3.6.9"
  }
 },
 "nbformat": 4,
 "nbformat_minor": 1
}
